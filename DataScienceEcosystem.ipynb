{
 "cells": [
  {
   "cell_type": "markdown",
   "id": "ee8299d8-1c6e-4f26-bdd8-cee0e81fab1f",
   "metadata": {},
   "source": [
    "# Data Science Tools and Ecosystem"
   ]
  },
  {
   "cell_type": "markdown",
   "id": "08028fec-4e0d-4818-9e90-7ddea637eb28",
   "metadata": {},
   "source": [
    "In this notebook, Data Science Tools and Ecosystem are summarized."
   ]
  },
  {
   "cell_type": "markdown",
   "id": "5526bd1c-5f51-4a9c-a75e-b4a493bd28ef",
   "metadata": {},
   "source": [
    "**Objectives:**\n",
    "- List popular languages that data scientists use\n",
    "- List commonly used libraries used by data scientists\n",
    "- List data science tools used in the development environment\n",
    "- Demonstrate evaluation of arithmetic expressions using Python"
   ]
  },
  {
   "cell_type": "markdown",
   "id": "7cc15224-bef5-4e22-9bac-6456e72c439f",
   "metadata": {},
   "source": [
    "Some of the popular languages that Data Scientists use are:\n",
    "1. Python\n",
    "2. R\n",
    "3. SQL\n",
    "4. Java"
   ]
  },
  {
   "cell_type": "markdown",
   "id": "90e49b6e-76b3-4314-90da-4d7ee5998f3e",
   "metadata": {},
   "source": [
    "Some of the commonly used libraries used by Data Scientists include:\n",
    "1. pyplot\n",
    "2. matplotlib\n",
    "3. ggplot\n",
    "4. pytorch\n",
    "5. tensorflow"
   ]
  },
  {
   "cell_type": "markdown",
   "id": "0ee17989-dc4b-4234-b94f-2a4dd856d95f",
   "metadata": {},
   "source": [
    "| Data Science Tools |\n",
    "| ------------------ |\n",
    "| Jupyter |\n",
    "| Jupyter Lab |\n",
    "| RStudio |"
   ]
  },
  {
   "cell_type": "markdown",
   "id": "d4db209e-dc1f-4f5e-867d-7443a717795e",
   "metadata": {},
   "source": [
    "### Below are a few examples of evaluating arithmetic expressions in Python."
   ]
  },
  {
   "cell_type": "code",
   "execution_count": 8,
   "id": "eb610cb7-4dd1-4a2d-85ec-a9adc4eb6b36",
   "metadata": {},
   "outputs": [
    {
     "data": {
      "text/plain": [
       "17"
      ]
     },
     "execution_count": 8,
     "metadata": {},
     "output_type": "execute_result"
    }
   ],
   "source": [
    "# This is an expression to multiply two integers, then the result is added by another integer.\n",
    "(3*4)+5"
   ]
  },
  {
   "cell_type": "code",
   "execution_count": 10,
   "id": "130e8428-dd06-4493-816b-39258fad866f",
   "metadata": {},
   "outputs": [
    {
     "data": {
      "text/plain": [
       "3.3333333333333335"
      ]
     },
     "execution_count": 10,
     "metadata": {},
     "output_type": "execute_result"
    }
   ],
   "source": [
    "# This is an expression to convert \"200 minutes\" into hours, through dividing by 60.\n",
    "200/60"
   ]
  },
  {
   "cell_type": "markdown",
   "id": "3ac8e867-6033-46ea-8453-28c7bce6b238",
   "metadata": {},
   "source": [
    "## Author\n",
    "Kelvin Chan"
   ]
  },
  {
   "cell_type": "code",
   "execution_count": null,
   "id": "56f13be5-cbd3-417b-bf10-1e3537ba089d",
   "metadata": {},
   "outputs": [],
   "source": []
  }
 ],
 "metadata": {
  "kernelspec": {
   "display_name": "Python [conda env:base] *",
   "language": "python",
   "name": "conda-base-py"
  },
  "language_info": {
   "codemirror_mode": {
    "name": "ipython",
    "version": 3
   },
   "file_extension": ".py",
   "mimetype": "text/x-python",
   "name": "python",
   "nbconvert_exporter": "python",
   "pygments_lexer": "ipython3",
   "version": "3.12.7"
  }
 },
 "nbformat": 4,
 "nbformat_minor": 5
}
